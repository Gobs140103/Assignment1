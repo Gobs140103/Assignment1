{
  "nbformat": 4,
  "nbformat_minor": 0,
  "metadata": {
    "colab": {
      "provenance": [],
      "authorship_tag": "ABX9TyNUAdYPGKiOjXXN/ILNUoVy"
    },
    "kernelspec": {
      "name": "python3",
      "display_name": "Python 3"
    },
    "language_info": {
      "name": "python"
    }
  },
  "cells": [
    {
      "cell_type": "markdown",
      "source": [
        "Assignment 1"
      ],
      "metadata": {
        "id": "JdXtqz1iUZ3F"
      }
    },
    {
      "cell_type": "markdown",
      "source": [
        "Q1\n",
        "(i)\n"
      ],
      "metadata": {
        "id": "BVRzWQ2wUOJz"
      }
    },
    {
      "cell_type": "code",
      "source": [
        "L = [11, 12, 13, 14]\n",
        "L.append(50)\n",
        "L.append(60)\n",
        "print(L)\n"
      ],
      "metadata": {
        "colab": {
          "base_uri": "https://localhost:8080/"
        },
        "id": "GEUs7yYxURCt",
        "outputId": "8366df3c-433f-42aa-ed71-5ed43c90cbbe"
      },
      "execution_count": 1,
      "outputs": [
        {
          "output_type": "stream",
          "name": "stdout",
          "text": [
            "[11, 12, 13, 14, 50, 60]\n"
          ]
        }
      ]
    },
    {
      "cell_type": "markdown",
      "source": [
        "(ii)"
      ],
      "metadata": {
        "id": "5xyXBDziUlF2"
      }
    },
    {
      "cell_type": "code",
      "source": [
        "L = [11, 12, 13, 14]\n",
        "L.remove(11)\n",
        "L.remove(13)\n",
        "print(L)"
      ],
      "metadata": {
        "colab": {
          "base_uri": "https://localhost:8080/"
        },
        "id": "sdwoWmIYUm3V",
        "outputId": "dda76c8b-81da-4e74-f1e2-99f43ca30cf5"
      },
      "execution_count": 2,
      "outputs": [
        {
          "output_type": "stream",
          "name": "stdout",
          "text": [
            "[12, 14]\n"
          ]
        }
      ]
    },
    {
      "cell_type": "markdown",
      "source": [
        "(iii)"
      ],
      "metadata": {
        "id": "n6cWobqGUtEy"
      }
    },
    {
      "cell_type": "code",
      "source": [
        "L = [11, 12, 13, 14]\n",
        "L.sort()\n",
        "print(L)"
      ],
      "metadata": {
        "colab": {
          "base_uri": "https://localhost:8080/"
        },
        "id": "dfiEddVhUvF7",
        "outputId": "ba3172bc-9053-42e4-a26d-77d990c19026"
      },
      "execution_count": 3,
      "outputs": [
        {
          "output_type": "stream",
          "name": "stdout",
          "text": [
            "[11, 12, 13, 14]\n"
          ]
        }
      ]
    },
    {
      "cell_type": "markdown",
      "source": [
        "(iv)"
      ],
      "metadata": {
        "id": "3_8q0N6VUxmG"
      }
    },
    {
      "cell_type": "code",
      "source": [
        "L = [11, 12, 13, 14]\n",
        "L.sort(reverse=True)\n",
        "print(L)"
      ],
      "metadata": {
        "colab": {
          "base_uri": "https://localhost:8080/"
        },
        "id": "65vi4FhbUzGc",
        "outputId": "1e0b45e3-e7c4-4a0c-ef75-821d9776218c"
      },
      "execution_count": 4,
      "outputs": [
        {
          "output_type": "stream",
          "name": "stdout",
          "text": [
            "[14, 13, 12, 11]\n"
          ]
        }
      ]
    },
    {
      "cell_type": "markdown",
      "source": [
        "(v)"
      ],
      "metadata": {
        "id": "IY9gpDSaU46m"
      }
    },
    {
      "cell_type": "code",
      "source": [
        "L = [11, 12, 13, 14]\n",
        "if 13 in L:\n",
        "    print(\"13 is present in L\")\n",
        "else:\n",
        "    print(\"13 is not present in L\")"
      ],
      "metadata": {
        "colab": {
          "base_uri": "https://localhost:8080/"
        },
        "id": "15oiSO_PU2m_",
        "outputId": "13cb7a15-bb1a-48bc-9486-e700ad4c1310"
      },
      "execution_count": 5,
      "outputs": [
        {
          "output_type": "stream",
          "name": "stdout",
          "text": [
            "13 is present in L\n"
          ]
        }
      ]
    },
    {
      "cell_type": "markdown",
      "source": [
        "(vi)"
      ],
      "metadata": {
        "id": "msE0KgnJU_d1"
      }
    },
    {
      "cell_type": "code",
      "source": [
        "L = [11, 12, 13, 14]\n",
        "count = len(L)\n",
        "print(\"Number of elements in L:\", count)"
      ],
      "metadata": {
        "colab": {
          "base_uri": "https://localhost:8080/"
        },
        "id": "rRU_3yJ4VAlb",
        "outputId": "28439c55-9f64-44a2-ad70-99fa360ddb2f"
      },
      "execution_count": 6,
      "outputs": [
        {
          "output_type": "stream",
          "name": "stdout",
          "text": [
            "Number of elements in L: 4\n"
          ]
        }
      ]
    },
    {
      "cell_type": "markdown",
      "source": [
        "(vii)"
      ],
      "metadata": {
        "id": "hvLoiPfZVD6f"
      }
    },
    {
      "cell_type": "code",
      "source": [
        "L = [11, 12, 13, 14]\n",
        "total_sum = sum(L)\n",
        "print(\"Sum of all elements in L:\", total_sum)\n"
      ],
      "metadata": {
        "colab": {
          "base_uri": "https://localhost:8080/"
        },
        "id": "MmWwz3HZVHBf",
        "outputId": "e499d8b5-8edc-4e2f-f2af-91f3fade083a"
      },
      "execution_count": 7,
      "outputs": [
        {
          "output_type": "stream",
          "name": "stdout",
          "text": [
            "Sum of all elements in L: 50\n"
          ]
        }
      ]
    },
    {
      "cell_type": "markdown",
      "source": [
        "(viii)"
      ],
      "metadata": {
        "id": "OuO7b9LHVJ03"
      }
    },
    {
      "cell_type": "code",
      "source": [
        "L = [11, 12, 13, 14]\n",
        "odd_sum = sum(num for num in L if num % 2 != 0)\n",
        "print(\"Sum of odd numbers in L:\", odd_sum)"
      ],
      "metadata": {
        "colab": {
          "base_uri": "https://localhost:8080/"
        },
        "id": "ongbbDboVLHP",
        "outputId": "747a018b-5edf-4dee-bd07-7d19f1f846e4"
      },
      "execution_count": 8,
      "outputs": [
        {
          "output_type": "stream",
          "name": "stdout",
          "text": [
            "Sum of odd numbers in L: 24\n"
          ]
        }
      ]
    },
    {
      "cell_type": "markdown",
      "source": [
        "(ix)"
      ],
      "metadata": {
        "id": "_5YXFUCwVYgQ"
      }
    },
    {
      "cell_type": "code",
      "source": [
        "L = [11, 12, 13, 14]\n",
        "even_sum = sum(num for num in L if num % 2 == 0)\n",
        "print(\"Sum of odd numbers in L:\", even_sum)"
      ],
      "metadata": {
        "colab": {
          "base_uri": "https://localhost:8080/"
        },
        "id": "mykOUMUPVaEu",
        "outputId": "3d180aa6-8b5d-438d-b3c7-6014271bcbf7"
      },
      "execution_count": 9,
      "outputs": [
        {
          "output_type": "stream",
          "name": "stdout",
          "text": [
            "Sum of odd numbers in L: 26\n"
          ]
        }
      ]
    },
    {
      "cell_type": "markdown",
      "source": [
        "(x)"
      ],
      "metadata": {
        "id": "uwV7FDCKVcSL"
      }
    },
    {
      "cell_type": "code",
      "source": [
        "L = [11, 12, 13, 14]\n",
        "def is_prime(num):\n",
        "    if num < 2:\n",
        "        return False\n",
        "    for i in range(2, int(num ** 0.5) + 1):\n",
        "        if num % i == 0:\n",
        "            return False\n",
        "    return True\n",
        "\n",
        "prime_sum = sum(num for num in L if is_prime(num))\n",
        "print(\"Sum of prime numbers in L:\", prime_sum)"
      ],
      "metadata": {
        "colab": {
          "base_uri": "https://localhost:8080/"
        },
        "id": "d_-g96sgVdLb",
        "outputId": "c4382217-eac7-4726-c655-298e84e80ef2"
      },
      "execution_count": 10,
      "outputs": [
        {
          "output_type": "stream",
          "name": "stdout",
          "text": [
            "Sum of prime numbers in L: 24\n"
          ]
        }
      ]
    },
    {
      "cell_type": "markdown",
      "source": [
        "(xi)"
      ],
      "metadata": {
        "id": "tj8TXrkCVg59"
      }
    },
    {
      "cell_type": "code",
      "source": [
        "L = [11, 12, 13, 14]\n",
        "L.clear()\n",
        "print(L)"
      ],
      "metadata": {
        "colab": {
          "base_uri": "https://localhost:8080/"
        },
        "id": "FJ1fSqHRVgDy",
        "outputId": "fe3ec024-f0a6-42af-e8ee-da5eae181487"
      },
      "execution_count": 11,
      "outputs": [
        {
          "output_type": "stream",
          "name": "stdout",
          "text": [
            "[]\n"
          ]
        }
      ]
    },
    {
      "cell_type": "markdown",
      "source": [
        "(xii)"
      ],
      "metadata": {
        "id": "QxHt4EoDVlHf"
      }
    },
    {
      "cell_type": "code",
      "source": [
        "\n",
        "L = [11, 12, 13, 14]\n",
        "del L\n"
      ],
      "metadata": {
        "id": "anWOgGLkVmSg"
      },
      "execution_count": 12,
      "outputs": []
    },
    {
      "cell_type": "markdown",
      "source": [
        "Q2"
      ],
      "metadata": {
        "id": "26DDklAYVqAQ"
      }
    },
    {
      "cell_type": "code",
      "source": [
        "D = {1: 5.6, 2: 7.8, 3: 6.6, 4: 8.7, 5: 7.73}\n",
        "D[8] = 8.8\n",
        "del D[2]\n",
        "if 6 in D:\n",
        "    print(\"Key 6 is present in D.\")\n",
        "else:\n",
        "    print(\"Key 6 is not present in D.\")\n",
        "num_elements = len(D)\n",
        "print(\"Number of elements in D:\", num_elements)\n",
        "total_sum = sum(D.values())\n",
        "print(\"Sum of values in D:\", total_sum)\n",
        "D[3] = 7.1\n",
        "D.clear()\n",
        "\n",
        "print(\"Updated dictionary D:\", D)"
      ],
      "metadata": {
        "colab": {
          "base_uri": "https://localhost:8080/"
        },
        "id": "L1k8MT_eVq88",
        "outputId": "cc2af8d8-60da-421f-88a5-251330c99139"
      },
      "execution_count": 13,
      "outputs": [
        {
          "output_type": "stream",
          "name": "stdout",
          "text": [
            "Key 6 is not present in D.\n",
            "Number of elements in D: 5\n",
            "Sum of values in D: 37.43\n",
            "Updated dictionary D: {}\n"
          ]
        }
      ]
    },
    {
      "cell_type": "markdown",
      "source": [
        "Q3"
      ],
      "metadata": {
        "id": "ePd_7eZSVtNN"
      }
    },
    {
      "cell_type": "code",
      "source": [
        "S1 = {10, 20, 30, 40, 50, 60}\n",
        "S2 = {40, 50, 60, 70, 80, 90}\n",
        "S1.add(55)\n",
        "S1.add(66)\n",
        "S1.remove(10)\n",
        "S1.remove(30)\n",
        "if 40 in S1:\n",
        "    print(\"40 is present in S1.\")\n",
        "else:\n",
        "    print(\"40 is not present in S1.\")\n",
        "union_set = S1.union(S2)\n",
        "print(\"Union of S1 & S2:\", union_set)\n",
        "intersection_set = S1.intersection(S2)\n",
        "print(\"Intersection of S1 & S2:\", intersection_set)\n",
        "difference_set = S1 - S2\n",
        "print(\"S1 - S2:\", difference_set)\n"
      ],
      "metadata": {
        "colab": {
          "base_uri": "https://localhost:8080/"
        },
        "id": "q71XExjdVuQ6",
        "outputId": "c85f305c-39af-4d31-b57a-eda93b953b80"
      },
      "execution_count": 14,
      "outputs": [
        {
          "output_type": "stream",
          "name": "stdout",
          "text": [
            "40 is present in S1.\n",
            "Union of S1 & S2: {66, 70, 40, 80, 50, 20, 55, 90, 60}\n",
            "Intersection of S1 & S2: {40, 50, 60}\n",
            "S1 - S2: {66, 20, 55}\n"
          ]
        }
      ]
    },
    {
      "cell_type": "markdown",
      "source": [
        "Q4"
      ],
      "metadata": {
        "id": "aZr_1QMQVxoB"
      }
    },
    {
      "cell_type": "code",
      "source": [
        "import random\n",
        "for a in range(100):\n",
        "    string_len = random.randint(6, 8)\n",
        "    random_string = ''.join(random.choices('abcdefghijklmnopqrstuvwxyzABCDEFGHIJKLMNOPQRSTWXYZ', k=string_len))\n",
        "    print(random_string)\n",
        "def is_prime(n):\n",
        "    if n < 2:\n",
        "        return False\n",
        "    for i in range(2, int(n ** 0.5) + 1):\n",
        "        if n % i == 0:\n",
        "            return False\n",
        "    return True\n",
        "\n",
        "for num in range(600, 801):\n",
        "    if is_prime(num):\n",
        "        print(num)\n",
        "for num in range(100, 1001):\n",
        "    if num % 7 == 0:\n",
        "        print(num)\n"
      ],
      "metadata": {
        "colab": {
          "base_uri": "https://localhost:8080/"
        },
        "id": "G2rF6jWYVyXL",
        "outputId": "5983f257-0b23-4019-d79c-4a12ae1f5ae3"
      },
      "execution_count": 15,
      "outputs": [
        {
          "output_type": "stream",
          "name": "stdout",
          "text": [
            "toBGpbRa\n",
            "xvZBoueR\n",
            "kjzeXGS\n",
            "ERikEc\n",
            "NxGOfp\n",
            "JKWwqfcB\n",
            "rnGZCt\n",
            "KqtxklO\n",
            "olxEnkP\n",
            "ZCZMjk\n",
            "vcEEAxjg\n",
            "fKquraqg\n",
            "ejqekji\n",
            "xWofhqp\n",
            "bPFDqcvY\n",
            "ksZLJA\n",
            "aaACPnH\n",
            "pLrKzET\n",
            "zPAHBzZ\n",
            "gAdBvF\n",
            "GlmjbAh\n",
            "agvwsHBQ\n",
            "dsQrBOi\n",
            "jJwMXD\n",
            "ryRHiMy\n",
            "XiYsbAt\n",
            "bjntmPc\n",
            "uuvzRG\n",
            "KTgnzT\n",
            "grgXuzc\n",
            "GIJEnTI\n",
            "Xipqvkr\n",
            "AYvNxd\n",
            "rNuNRv\n",
            "yPYunD\n",
            "NNtgfHaI\n",
            "BgTXSDHo\n",
            "ChHsps\n",
            "lHqwPQ\n",
            "EMDdfbz\n",
            "ICmNBqOw\n",
            "yKpOBH\n",
            "cnvpSlJG\n",
            "BAScEasM\n",
            "SCwjrm\n",
            "SROaAuS\n",
            "eGWFLjt\n",
            "yqzCGMx\n",
            "leEWBBS\n",
            "NimErB\n",
            "MbJhqjw\n",
            "FZcSSThG\n",
            "ZPHxdZy\n",
            "OMnzXeEi\n",
            "iKGrzp\n",
            "cylRskro\n",
            "ZCeTINWr\n",
            "RtKSMqW\n",
            "DDHDiK\n",
            "nBWlff\n",
            "xgYGIhHy\n",
            "GiYQKGa\n",
            "aFWWXJ\n",
            "txTSFwa\n",
            "qgWYLuI\n",
            "aenLKjz\n",
            "BzjRaRe\n",
            "lqzxyFrL\n",
            "cjQklmhQ\n",
            "ouehNTm\n",
            "emJiNo\n",
            "yZkDfxax\n",
            "ZuwTfx\n",
            "vwaFCfo\n",
            "tzEGOs\n",
            "zesMKLaH\n",
            "qWMHgag\n",
            "rEamJFY\n",
            "JjDQGPzK\n",
            "zyOunqhO\n",
            "NuHrSqWx\n",
            "NXEaZWhG\n",
            "JCaGpg\n",
            "JijtymE\n",
            "bqIqkG\n",
            "mATodRp\n",
            "PNCcnkpJ\n",
            "yxzqgIle\n",
            "pjnnzbTA\n",
            "bIvzLcWO\n",
            "AuaRjr\n",
            "tHxlMOl\n",
            "JzQvOT\n",
            "EQcgNmF\n",
            "HBGfzb\n",
            "YAmIvo\n",
            "vKKgzq\n",
            "ICpSsXR\n",
            "fvrhqj\n",
            "LhNrNCNj\n",
            "601\n",
            "607\n",
            "613\n",
            "617\n",
            "619\n",
            "631\n",
            "641\n",
            "643\n",
            "647\n",
            "653\n",
            "659\n",
            "661\n",
            "673\n",
            "677\n",
            "683\n",
            "691\n",
            "701\n",
            "709\n",
            "719\n",
            "727\n",
            "733\n",
            "739\n",
            "743\n",
            "751\n",
            "757\n",
            "761\n",
            "769\n",
            "773\n",
            "787\n",
            "797\n",
            "105\n",
            "112\n",
            "119\n",
            "126\n",
            "133\n",
            "140\n",
            "147\n",
            "154\n",
            "161\n",
            "168\n",
            "175\n",
            "182\n",
            "189\n",
            "196\n",
            "203\n",
            "210\n",
            "217\n",
            "224\n",
            "231\n",
            "238\n",
            "245\n",
            "252\n",
            "259\n",
            "266\n",
            "273\n",
            "280\n",
            "287\n",
            "294\n",
            "301\n",
            "308\n",
            "315\n",
            "322\n",
            "329\n",
            "336\n",
            "343\n",
            "350\n",
            "357\n",
            "364\n",
            "371\n",
            "378\n",
            "385\n",
            "392\n",
            "399\n",
            "406\n",
            "413\n",
            "420\n",
            "427\n",
            "434\n",
            "441\n",
            "448\n",
            "455\n",
            "462\n",
            "469\n",
            "476\n",
            "483\n",
            "490\n",
            "497\n",
            "504\n",
            "511\n",
            "518\n",
            "525\n",
            "532\n",
            "539\n",
            "546\n",
            "553\n",
            "560\n",
            "567\n",
            "574\n",
            "581\n",
            "588\n",
            "595\n",
            "602\n",
            "609\n",
            "616\n",
            "623\n",
            "630\n",
            "637\n",
            "644\n",
            "651\n",
            "658\n",
            "665\n",
            "672\n",
            "679\n",
            "686\n",
            "693\n",
            "700\n",
            "707\n",
            "714\n",
            "721\n",
            "728\n",
            "735\n",
            "742\n",
            "749\n",
            "756\n",
            "763\n",
            "770\n",
            "777\n",
            "784\n",
            "791\n",
            "798\n",
            "805\n",
            "812\n",
            "819\n",
            "826\n",
            "833\n",
            "840\n",
            "847\n",
            "854\n",
            "861\n",
            "868\n",
            "875\n",
            "882\n",
            "889\n",
            "896\n",
            "903\n",
            "910\n",
            "917\n",
            "924\n",
            "931\n",
            "938\n",
            "945\n",
            "952\n",
            "959\n",
            "966\n",
            "973\n",
            "980\n",
            "987\n",
            "994\n"
          ]
        }
      ]
    },
    {
      "cell_type": "markdown",
      "source": [
        "Q5"
      ],
      "metadata": {
        "id": "ZFhvc4H-W0mb"
      }
    },
    {
      "cell_type": "code",
      "source": [
        "import random\n",
        "list1 = random.sample(range(10, 31), 10)\n",
        "list2 = random.sample(range(10, 31), 10)\n",
        "\n",
        "print(\"List 1:\", list1)\n",
        "print(\"List 2:\", list2)\n",
        "common_numbers = list(set(list1) & set(list2))\n",
        "print(\"Common numbers:\", common_numbers)\n",
        "unique_numbers = list(set(list1) ^ set(list2))\n",
        "print(\"Unique numbers:\", unique_numbers)\n",
        "minimum = min(min(list1), min(list2))\n",
        "print(\"Minimum:\", minimum)\n",
        "maximum = max(max(list1), max(list2))\n",
        "print(\"Maximum:\", maximum)\n",
        "total_sum = sum(list1) + sum(list2)\n",
        "print(\"Sum of both the lists:\", total_sum)\n"
      ],
      "metadata": {
        "colab": {
          "base_uri": "https://localhost:8080/"
        },
        "id": "BuiCxz-0W1VJ",
        "outputId": "de81093e-b2c2-4b35-d97d-f1fb92a644bb"
      },
      "execution_count": 16,
      "outputs": [
        {
          "output_type": "stream",
          "name": "stdout",
          "text": [
            "List 1: [14, 29, 24, 10, 12, 15, 13, 26, 30, 21]\n",
            "List 2: [26, 14, 21, 23, 28, 19, 10, 18, 20, 15]\n",
            "Common numbers: [10, 14, 15, 21, 26]\n",
            "Unique numbers: [12, 13, 18, 19, 20, 23, 24, 28, 29, 30]\n",
            "Minimum: 10\n",
            "Maximum: 30\n",
            "Sum of both the lists: 388\n"
          ]
        }
      ]
    },
    {
      "cell_type": "markdown",
      "source": [
        "Q6"
      ],
      "metadata": {
        "id": "DCu0vJw4W3Ik"
      }
    },
    {
      "cell_type": "code",
      "source": [
        "import random\n",
        "\n",
        "def is_prime(num):\n",
        "    if num < 2:\n",
        "        return False\n",
        "    for i in range(2, int(num**0.5) + 1):\n",
        "        if num % i == 0:\n",
        "            return False\n",
        "    return True\n",
        "\n",
        "random_num = random.sample(range(100, 901), 100)\n",
        "odd_num = []\n",
        "even_num = []\n",
        "prime_num = []\n",
        "\n",
        "for num in random_num:\n",
        "    if num % 2 == 0:\n",
        "        even_num.append(num)\n",
        "    else:\n",
        "        odd_num.append(num)\n",
        "    if is_prime(num):\n",
        "        prime_num.append(num)\n",
        "\n",
        "print(\"Odd Nums:\")\n",
        "print(odd_num)\n",
        "print(\"Count:\", len(odd_num))\n",
        "\n",
        "print(\"\\nEven Nums:\")\n",
        "print(even_num)\n",
        "print(\"Count:\", len(even_num))\n",
        "\n",
        "print(\"\\nPrime Nums:\")\n",
        "print(prime_num)\n",
        "print(\"Count:\", len(prime_num))"
      ],
      "metadata": {
        "colab": {
          "base_uri": "https://localhost:8080/"
        },
        "id": "ApGZBBCuW2Tp",
        "outputId": "8a9b55bf-f177-426c-b53e-311adfd15e1f"
      },
      "execution_count": 17,
      "outputs": [
        {
          "output_type": "stream",
          "name": "stdout",
          "text": [
            "Odd Nums:\n",
            "[143, 545, 451, 267, 453, 151, 571, 325, 745, 227, 887, 231, 109, 709, 271, 349, 499, 895, 215, 849, 221, 125, 177, 629, 533, 387, 557, 651, 861, 541, 713, 843, 687, 853, 165, 409, 445, 283, 667, 563, 751, 805, 391, 203, 505, 197, 699, 609, 137, 841, 255, 795, 655, 835, 815]\n",
            "Count: 55\n",
            "\n",
            "Even Nums:\n",
            "[782, 696, 806, 784, 234, 788, 774, 798, 332, 702, 844, 242, 368, 510, 338, 688, 652, 758, 646, 214, 184, 186, 182, 256, 730, 506, 894, 508, 404, 756, 144, 542, 736, 352, 274, 102, 372, 770, 132, 300, 820, 408, 440, 690, 228]\n",
            "Count: 45\n",
            "\n",
            "Prime Nums:\n",
            "[151, 571, 227, 887, 109, 709, 271, 349, 499, 557, 541, 853, 409, 283, 563, 751, 197, 137]\n",
            "Count: 18\n"
          ]
        }
      ]
    },
    {
      "cell_type": "markdown",
      "source": [
        "Q7"
      ],
      "metadata": {
        "id": "hpgVMoH_W7lb"
      }
    },
    {
      "cell_type": "code",
      "source": [
        "D = {1: \"One\", 2: \"Two\", 3: \"Three\", 4: \"Four\", 5: \"Five\"}\n",
        "with open(\"dictionary_outputQ7.txt\", \"w\") as file:\n",
        "    for key, value in D.items():\n",
        "        file.write(f\"Key{key}, Value{value}\\n\")\n",
        "print(\"Data written to file successfully.\")"
      ],
      "metadata": {
        "colab": {
          "base_uri": "https://localhost:8080/"
        },
        "id": "taX1eP0sW8fA",
        "outputId": "6c4dfac0-2fa8-45ac-8e33-0930bee85df1"
      },
      "execution_count": 18,
      "outputs": [
        {
          "output_type": "stream",
          "name": "stdout",
          "text": [
            "Data written to file successfully.\n"
          ]
        }
      ]
    },
    {
      "cell_type": "markdown",
      "source": [
        "Q8"
      ],
      "metadata": {
        "id": "2qEo_Wy4W_XY"
      }
    },
    {
      "cell_type": "code",
      "source": [
        "\n",
        "L = [\"One\", \"Two\", \"Three\", \"Four\", \"Five\"]\n",
        "with open(\"list_outputQ8.txt\", \"w\") as file:\n",
        "    for element in L:\n",
        "        length = len(element)\n",
        "        file.write(f\"{element}, {length}\\n\")\n",
        "\n",
        "print(\"Data written to file successfully.\")"
      ],
      "metadata": {
        "colab": {
          "base_uri": "https://localhost:8080/"
        },
        "id": "B1pdZDZkXAL_",
        "outputId": "07e4052f-4fc3-4e84-bcca-257cb83e4ea7"
      },
      "execution_count": 19,
      "outputs": [
        {
          "output_type": "stream",
          "name": "stdout",
          "text": [
            "Data written to file successfully.\n"
          ]
        }
      ]
    },
    {
      "cell_type": "markdown",
      "source": [
        "Q9"
      ],
      "metadata": {
        "id": "yJ7Q06YiXC8D"
      }
    },
    {
      "cell_type": "code",
      "source": [
        "import random\n",
        "import string\n",
        "\n",
        "def generate_random_string(length):\n",
        "    letters = string.ascii_lowercase\n",
        "    return ''.join(random.choice(letters) for _ in range(length))\n",
        "\n",
        "file_path = \"random_stringsQ9.txt\"\n",
        "\n",
        "with open(file_path, 'w') as file:\n",
        "    for _ in range(100):\n",
        "        string_length = random.randint(10, 15)\n",
        "        random_string = generate_random_string(string_length)\n",
        "        file.write(random_string + '\\n')\n",
        "\n",
        "print(\"Random strings have been written to the file:\", file_path)"
      ],
      "metadata": {
        "colab": {
          "base_uri": "https://localhost:8080/"
        },
        "id": "zgxQ2Ej_XDlL",
        "outputId": "8ba40530-0260-48ae-cfa9-e3a761d88301"
      },
      "execution_count": 20,
      "outputs": [
        {
          "output_type": "stream",
          "name": "stdout",
          "text": [
            "Random strings have been written to the file: random_stringsQ9.txt\n"
          ]
        }
      ]
    },
    {
      "cell_type": "markdown",
      "source": [
        "Q10"
      ],
      "metadata": {
        "id": "-13m9QfcXGUq"
      }
    },
    {
      "cell_type": "code",
      "source": [
        "def is_prime(n):\n",
        "    if n < 2:\n",
        "        return False\n",
        "    for i in range(2, int(n ** 0.5) + 1):\n",
        "        if n % i == 0:\n",
        "            return False\n",
        "    return True\n",
        "\n",
        "file_path = \"prime_numbersQ10.txt\" \n",
        "\n",
        "with open(file_path, \"w\") as file:\n",
        "    for num in range(600, 801):\n",
        "        if is_prime(num):\n",
        "            file.write(str(num) + \"\\n\")\n",
        "print(\"Prime numbers have been written to the file:\", file_path)"
      ],
      "metadata": {
        "colab": {
          "base_uri": "https://localhost:8080/"
        },
        "id": "oUCbV0znXG7t",
        "outputId": "0375882c-2c34-48b1-e476-93ed97546fa0"
      },
      "execution_count": 21,
      "outputs": [
        {
          "output_type": "stream",
          "name": "stdout",
          "text": [
            "Prime numbers have been written to the file: prime_numbersQ10.txt\n"
          ]
        }
      ]
    },
    {
      "cell_type": "markdown",
      "source": [
        "Q11"
      ],
      "metadata": {
        "id": "Rdqe-urqXO4E"
      }
    },
    {
      "cell_type": "code",
      "source": [
        "import time\n",
        "start_time = time.time()\n",
        "end_time = time.time()\n",
        "elapsed_time = end_time - start_time\n",
        "\n",
        "print(\"Elapsed time: {:.2f} seconds\".format(elapsed_time))"
      ],
      "metadata": {
        "colab": {
          "base_uri": "https://localhost:8080/"
        },
        "id": "3TzB9f3IXPih",
        "outputId": "a4a4c0c8-1246-4102-a631-f86c0fa99b44"
      },
      "execution_count": 22,
      "outputs": [
        {
          "output_type": "stream",
          "name": "stdout",
          "text": [
            "Elapsed time: 0.00 seconds\n"
          ]
        }
      ]
    },
    {
      "cell_type": "markdown",
      "source": [
        "Q12"
      ],
      "metadata": {
        "id": "nWT60TNPXRzm"
      }
    },
    {
      "cell_type": "code",
      "source": [
        "\n",
        "def calculate_average(marks):\n",
        "    return sum(marks) / len(marks)\n",
        "student_marks = {\n",
        "    \"sanya \": [50, 90, 92, 88, 95],\n",
        "    \"priya \": [78, 85, 40, 82, 88],\n",
        "    \"sneha \": [90, 92, 85, 88, 95],\n",
        "    \"kiran\": [82, 78, 60, 85, 88],\n",
        "    \"kaiara\": [95, 80, 88, 85, 92]\n",
        "}\n",
        "\n",
        "average_marks = {}\n",
        "for student, marks in student_marks.items():\n",
        "    average_marks[student] = calculate_average(marks)\n",
        "max_average = max(average_marks.values())\n",
        "min_average = min(average_marks.values())\n",
        "students_with_max = [student for student, average in average_marks.items() if average == max_average]\n",
        "students_with_min = [student for student, average in average_marks.items() if average == min_average]\n",
        "\n",
        "print(\"Average Marks:\")\n",
        "for student, average in average_marks.items():\n",
        "    print(student, \":\", average)\n",
        "    \n",
        "print(\"\\nMaximum Average Marks:\", max_average)\n",
        "print(\"Students with maximum average marks:\", students_with_max)\n",
        "\n",
        "print(\"\\nMinimum Average Marks:\", min_average)\n",
        "print(\"Students with minimum average marks:\", students_with_min)"
      ],
      "metadata": {
        "colab": {
          "base_uri": "https://localhost:8080/"
        },
        "id": "iQyNH56GXSTI",
        "outputId": "e9f1edb4-cf7f-4323-adbd-37a4c9e28d05"
      },
      "execution_count": 23,
      "outputs": [
        {
          "output_type": "stream",
          "name": "stdout",
          "text": [
            "Average Marks:\n",
            "sanya  : 83.0\n",
            "priya  : 74.6\n",
            "sneha  : 90.0\n",
            "kiran : 78.6\n",
            "kaiara : 88.0\n",
            "\n",
            "Maximum Average Marks: 90.0\n",
            "Students with maximum average marks: ['sneha ']\n",
            "\n",
            "Minimum Average Marks: 74.6\n",
            "Students with minimum average marks: ['priya ']\n"
          ]
        }
      ]
    }
  ]
}